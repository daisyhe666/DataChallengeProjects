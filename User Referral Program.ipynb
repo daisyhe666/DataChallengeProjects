{
 "cells": [
  {
   "cell_type": "markdown",
   "metadata": {},
   "source": [
    "## Challenge Description\n",
    "\n",
    "<font size=3>Company XYZ has started a new referral program on Oct, 31. Each user who refers a new user will get $10 in credit when the new user buys something.\n",
    "\n",
    "<font size=3>The program has been running for almost a month and the Growth Product Manager wants to know if it’s been successful. She is very excited because, since the referral program started, the company saw a spike in number of users and wants you to be able to give her some data she can show to her boss.\n",
    "\n",
    "- Can you estimate the impact the program had on the site?\n",
    "\n",
    "\n",
    "- Based on the data, what would you suggest to do as a next step?\n",
    "\n",
    "\n",
    "- The referral program wasn’t really tested in a rigorous way. It simply started on a given day for all users and you are drawing conclusions by looking at the data before and after the test started. What kinds of risks this approach presents? Can you think of a better way to test the program and measure its impact?"
   ]
  },
  {
   "cell_type": "markdown",
   "metadata": {},
   "source": [
    "---"
   ]
  },
  {
   "cell_type": "markdown",
   "metadata": {},
   "source": [
    "### Load data"
   ]
  },
  {
   "cell_type": "code",
   "execution_count": 2,
   "metadata": {},
   "outputs": [],
   "source": [
    "import numpy as np\n",
    "import pandas as pd\n",
    "from scipy import stats\n",
    "import matplotlib.pyplot as plt\n",
    "import seaborn as sns\n",
    "%matplotlib inline\n",
    "import warnings\n",
    "warnings.filterwarnings('ignore')"
   ]
  },
  {
   "cell_type": "code",
   "execution_count": 3,
   "metadata": {},
   "outputs": [
    {
     "data": {
      "text/html": [
       "<div>\n",
       "<style scoped>\n",
       "    .dataframe tbody tr th:only-of-type {\n",
       "        vertical-align: middle;\n",
       "    }\n",
       "\n",
       "    .dataframe tbody tr th {\n",
       "        vertical-align: top;\n",
       "    }\n",
       "\n",
       "    .dataframe thead th {\n",
       "        text-align: right;\n",
       "    }\n",
       "</style>\n",
       "<table border=\"1\" class=\"dataframe\">\n",
       "  <thead>\n",
       "    <tr style=\"text-align: right;\">\n",
       "      <th></th>\n",
       "      <th>user_id</th>\n",
       "      <th>date</th>\n",
       "      <th>country</th>\n",
       "      <th>money_spent</th>\n",
       "      <th>is_referral</th>\n",
       "      <th>device_id</th>\n",
       "    </tr>\n",
       "  </thead>\n",
       "  <tbody>\n",
       "    <tr>\n",
       "      <th>0</th>\n",
       "      <td>2</td>\n",
       "      <td>2015-10-03</td>\n",
       "      <td>FR</td>\n",
       "      <td>65</td>\n",
       "      <td>0</td>\n",
       "      <td>EVDCJTZMVMJDG</td>\n",
       "    </tr>\n",
       "    <tr>\n",
       "      <th>1</th>\n",
       "      <td>3</td>\n",
       "      <td>2015-10-03</td>\n",
       "      <td>CA</td>\n",
       "      <td>54</td>\n",
       "      <td>0</td>\n",
       "      <td>WUBZFTVKXGQQX</td>\n",
       "    </tr>\n",
       "    <tr>\n",
       "      <th>2</th>\n",
       "      <td>6</td>\n",
       "      <td>2015-10-03</td>\n",
       "      <td>FR</td>\n",
       "      <td>35</td>\n",
       "      <td>0</td>\n",
       "      <td>CBAPCJRTFNUJG</td>\n",
       "    </tr>\n",
       "    <tr>\n",
       "      <th>3</th>\n",
       "      <td>7</td>\n",
       "      <td>2015-10-03</td>\n",
       "      <td>UK</td>\n",
       "      <td>73</td>\n",
       "      <td>0</td>\n",
       "      <td>PRGXJZAJKMXRH</td>\n",
       "    </tr>\n",
       "    <tr>\n",
       "      <th>4</th>\n",
       "      <td>7</td>\n",
       "      <td>2015-10-03</td>\n",
       "      <td>MX</td>\n",
       "      <td>35</td>\n",
       "      <td>0</td>\n",
       "      <td>PRGXJZAJKMXRH</td>\n",
       "    </tr>\n",
       "  </tbody>\n",
       "</table>\n",
       "</div>"
      ],
      "text/plain": [
       "   user_id        date country  money_spent  is_referral      device_id\n",
       "0        2  2015-10-03      FR           65            0  EVDCJTZMVMJDG\n",
       "1        3  2015-10-03      CA           54            0  WUBZFTVKXGQQX\n",
       "2        6  2015-10-03      FR           35            0  CBAPCJRTFNUJG\n",
       "3        7  2015-10-03      UK           73            0  PRGXJZAJKMXRH\n",
       "4        7  2015-10-03      MX           35            0  PRGXJZAJKMXRH"
      ]
     },
     "execution_count": 3,
     "metadata": {},
     "output_type": "execute_result"
    }
   ],
   "source": [
    "data = pd.read_csv('referral.csv')\n",
    "data.head()"
   ]
  },
  {
   "cell_type": "code",
   "execution_count": 6,
   "metadata": {},
   "outputs": [],
   "source": [
    "# split users into control and test groups based on time\n",
    "data['test'] = 0\n",
    "data.loc[data[data['date']>='2015-10-31'].index, 'test'] = 1"
   ]
  },
  {
   "cell_type": "code",
   "execution_count": 7,
   "metadata": {
    "scrolled": true
   },
   "outputs": [
    {
     "data": {
      "text/plain": [
       "1    50000\n",
       "0    47341\n",
       "Name: test, dtype: int64"
      ]
     },
     "execution_count": 7,
     "metadata": {},
     "output_type": "execute_result"
    }
   ],
   "source": [
    "data.test.value_counts()"
   ]
  },
  {
   "cell_type": "code",
   "execution_count": 63,
   "metadata": {},
   "outputs": [
    {
     "data": {
      "text/html": [
       "<div>\n",
       "<style scoped>\n",
       "    .dataframe tbody tr th:only-of-type {\n",
       "        vertical-align: middle;\n",
       "    }\n",
       "\n",
       "    .dataframe tbody tr th {\n",
       "        vertical-align: top;\n",
       "    }\n",
       "\n",
       "    .dataframe thead th {\n",
       "        text-align: right;\n",
       "    }\n",
       "</style>\n",
       "<table border=\"1\" class=\"dataframe\">\n",
       "  <thead>\n",
       "    <tr style=\"text-align: right;\">\n",
       "      <th>is_referral</th>\n",
       "      <th>0</th>\n",
       "      <th>1</th>\n",
       "    </tr>\n",
       "    <tr>\n",
       "      <th>test</th>\n",
       "      <th></th>\n",
       "      <th></th>\n",
       "    </tr>\n",
       "  </thead>\n",
       "  <tbody>\n",
       "    <tr>\n",
       "      <th>0</th>\n",
       "      <td>47341.0</td>\n",
       "      <td>NaN</td>\n",
       "    </tr>\n",
       "    <tr>\n",
       "      <th>1</th>\n",
       "      <td>21983.0</td>\n",
       "      <td>28017.0</td>\n",
       "    </tr>\n",
       "  </tbody>\n",
       "</table>\n",
       "</div>"
      ],
      "text/plain": [
       "is_referral        0        1\n",
       "test                         \n",
       "0            47341.0      NaN\n",
       "1            21983.0  28017.0"
      ]
     },
     "execution_count": 63,
     "metadata": {},
     "output_type": "execute_result"
    }
   ],
   "source": [
    "data.groupby('test').is_referral.value_counts().unstack()"
   ]
  },
  {
   "cell_type": "code",
   "execution_count": 65,
   "metadata": {},
   "outputs": [
    {
     "data": {
      "text/html": [
       "<div>\n",
       "<style scoped>\n",
       "    .dataframe tbody tr th:only-of-type {\n",
       "        vertical-align: middle;\n",
       "    }\n",
       "\n",
       "    .dataframe tbody tr th {\n",
       "        vertical-align: top;\n",
       "    }\n",
       "\n",
       "    .dataframe thead th {\n",
       "        text-align: right;\n",
       "    }\n",
       "</style>\n",
       "<table border=\"1\" class=\"dataframe\">\n",
       "  <thead>\n",
       "    <tr style=\"text-align: right;\">\n",
       "      <th></th>\n",
       "      <th>money_spent</th>\n",
       "      <th>user_id</th>\n",
       "    </tr>\n",
       "    <tr>\n",
       "      <th>test</th>\n",
       "      <th></th>\n",
       "      <th></th>\n",
       "    </tr>\n",
       "  </thead>\n",
       "  <tbody>\n",
       "    <tr>\n",
       "      <th>0</th>\n",
       "      <td>42.381783</td>\n",
       "      <td>5000</td>\n",
       "    </tr>\n",
       "    <tr>\n",
       "      <th>1</th>\n",
       "      <td>46.880060</td>\n",
       "      <td>18397</td>\n",
       "    </tr>\n",
       "  </tbody>\n",
       "</table>\n",
       "</div>"
      ],
      "text/plain": [
       "      money_spent  user_id\n",
       "test                      \n",
       "0       42.381783     5000\n",
       "1       46.880060    18397"
      ]
     },
     "execution_count": 65,
     "metadata": {},
     "output_type": "execute_result"
    }
   ],
   "source": [
    "data.groupby('test').agg({'money_spent':'mean','user_id':'nunique'})"
   ]
  },
  {
   "cell_type": "markdown",
   "metadata": {},
   "source": [
    "---"
   ]
  },
  {
   "cell_type": "markdown",
   "metadata": {},
   "source": [
    "<font size=5> Q1: Estimate the impact the program had on the site"
   ]
  },
  {
   "cell_type": "markdown",
   "metadata": {},
   "source": [
    "<font size=4> 1.1 Sanity check"
   ]
  },
  {
   "cell_type": "code",
   "execution_count": 19,
   "metadata": {},
   "outputs": [
    {
     "name": "stdout",
     "output_type": "stream",
     "text": [
      "control days:  28 \n",
      "test_days: 28\n"
     ]
    }
   ],
   "source": [
    "# check days between two groups\n",
    "control_days = data[data['date']<'2015-10-31']['date'].nunique()\n",
    "test_days = data[data['date']>='2015-10-31']['date'].nunique()\n",
    "print('control days: ',control_days, '\\ntest_days:',test_days)"
   ]
  },
  {
   "cell_type": "markdown",
   "metadata": {},
   "source": [
    "<font size=4>1.2 effect test"
   ]
  },
  {
   "cell_type": "markdown",
   "metadata": {},
   "source": [
    "- <font size=3>define the metrics:\n",
    "  - the number of daily transactions\n",
    "  - the number of daily users\n",
    "  - the amount of daily money spent"
   ]
  },
  {
   "cell_type": "markdown",
   "metadata": {},
   "source": [
    "<font size=3>a. daily number of transactions"
   ]
  },
  {
   "cell_type": "code",
   "execution_count": 238,
   "metadata": {},
   "outputs": [
    {
     "data": {
      "image/png": "[encoded data removed]",
      "text/plain": [
       "<Figure size 576x360 with 1 Axes>"
      ]
     },
     "metadata": {
      "needs_background": "light"
     },
     "output_type": "display_data"
    }
   ],
   "source": [
    "plt.figure(figsize=(8,5))\n",
    "data[data['test']==0].groupby('date').size().hist(bins=50)\n",
    "data[data['test']==1].groupby('date').size().hist(bins=50)\n",
    "plt.title('the number of daily transactions')\n",
    "plt.legend(['control','test'])\n",
    "plt.show()"
   ]
  },
  {
   "cell_type": "code",
   "execution_count": 241,
   "metadata": {},
   "outputs": [
    {
     "data": {
      "image/png": "[encoded data removed]",
      "text/plain": [
       "<Figure size 432x288 with 1 Axes>"
      ]
     },
     "metadata": {
      "needs_background": "light"
     },
     "output_type": "display_data"
    }
   ],
   "source": [
    "diff = data[data['test']==1].groupby('date').size().values - data[data['test']==0].groupby('date').size().values\n",
    "diff = pd.DataFrame(diff)\n",
    "diff.hist(bins=20)\n",
    "plt.title('daily transactions difference distribution')\n",
    "plt.show()"
   ]
  },
  {
   "cell_type": "code",
   "execution_count": 134,
   "metadata": {},
   "outputs": [
    {
     "data": {
      "text/plain": [
       "0.34825710254713316"
      ]
     },
     "execution_count": 134,
     "metadata": {},
     "output_type": "execute_result"
    }
   ],
   "source": [
    "## check the daily transactions metric\n",
    "stat, pvalue = stats.ttest_ind(data[data['test']==0].groupby('date').size(),\n",
    "                               data[data['test']==1].groupby('date').size(),equal_var=False)\n",
    "pvalue/2"
   ]
  },
  {
   "cell_type": "markdown",
   "metadata": {},
   "source": [
    "- <font size=3> above result shows there is no difference in daily transactions between control and test groups\n",
    "    \n",
    "    let's break it down to different segments:"
   ]
  },
  {
   "cell_type": "code",
   "execution_count": 243,
   "metadata": {
    "scrolled": true
   },
   "outputs": [
    {
     "name": "stdout",
     "output_type": "stream",
     "text": [
      "Country         Difference    P-Value\n",
      "----------------------------------------\n",
      "FR               61.571429   0.058996\n",
      "CA              -17.142857   0.233985\n",
      "UK               24.750000   0.261183\n",
      "MX               37.535714   0.032430\n",
      "DE              -68.107143   0.011798\n",
      "US              -18.857143   0.307801\n",
      "IT               47.071429   0.057454\n",
      "ES               37.892857   0.072638\n",
      "CH               -9.750000   0.003072\n"
     ]
    }
   ],
   "source": [
    "# check the daily transactions in different segments\n",
    "print('{0:10s} {1:>15s} {2:>10s}'.format('Country','Difference', 'P-Value'))\n",
    "print('-' * 40)\n",
    "for col in data.country.unique():\n",
    "    cont = data[(data['country']==col)&(data['test']==0)]\n",
    "    exp = data[(data['country']==col)&(data['test']==1)]\n",
    "    result = stats.ttest_ind(cont.groupby('date').size(),\n",
    "                            exp.groupby('date').size(),equal_var=False)\n",
    "    diff = exp.groupby('date').size().mean() - cont.groupby('date').size().mean()\n",
    "    print('{0:10s} {1:15f} {2:10f}'.format(col, diff, result.pvalue/2))"
   ]
  },
  {
   "cell_type": "markdown",
   "metadata": {},
   "source": [
    "- country 'DE' and 'CH' has a negative significance, which means the number of daily transactions drops significantly in the two countries.\n",
    "- the new referral program performs pretty well in country 'MX', and the daily transactions increased significantlly in country 'MX'.\n",
    "- the program doesn't seem have any significant effect on other countries"
   ]
  },
  {
   "cell_type": "markdown",
   "metadata": {},
   "source": [
    "<font size=3>b. daily number of users"
   ]
  },
  {
   "cell_type": "code",
   "execution_count": 187,
   "metadata": {
    "scrolled": true
   },
   "outputs": [
    {
     "data": {
      "image/png": "[encoded data removed]",
      "text/plain": [
       "<Figure size 576x360 with 1 Axes>"
      ]
     },
     "metadata": {
      "needs_background": "light"
     },
     "output_type": "display_data"
    }
   ],
   "source": [
    "plt.figure(figsize=(8,5))\n",
    "data[data['test']==0].groupby('date').user_id.nunique().hist(bins=50)\n",
    "data[data['test']==1].groupby('date').user_id.nunique().hist(bins=50)\n",
    "plt.title('the number of daily users')\n",
    "plt.show()"
   ]
  },
  {
   "cell_type": "code",
   "execution_count": 167,
   "metadata": {},
   "outputs": [
    {
     "data": {
      "text/plain": [
       "0.05954546934016834"
      ]
     },
     "execution_count": 167,
     "metadata": {},
     "output_type": "execute_result"
    }
   ],
   "source": [
    "## check the number of daily users metric\n",
    "stat, pvalue = stats.ttest_ind(data[data['test']==0].groupby('date').user_id.nunique(),\n",
    "                               data[data['test']==1].groupby('date').user_id.nunique(),equal_var=False)\n",
    "pvalue/2"
   ]
  },
  {
   "cell_type": "code",
   "execution_count": 171,
   "metadata": {},
   "outputs": [
    {
     "name": "stdout",
     "output_type": "stream",
     "text": [
      "Country         Difference    P-Value\n",
      "----------------------------------------\n",
      "FR               66.035714   0.041124\n",
      "CA              -14.107143   0.268256\n",
      "UK               30.750000   0.204398\n",
      "MX               38.714286   0.026203\n",
      "DE              -61.714286   0.015665\n",
      "US              -12.071429   0.368860\n",
      "IT               49.571429   0.043911\n",
      "ES               39.821429   0.057954\n",
      "CH               -9.642857   0.003142\n"
     ]
    }
   ],
   "source": [
    "# check the number of daily users in different segments\n",
    "print('{0:10s} {1:>15s} {2:>10s}'.format('Country','Difference', 'P-Value'))\n",
    "print('-' * 40)\n",
    "for col in data.country.unique():\n",
    "    cont = data[(data['country']==col)&(data['test']==0)]\n",
    "    exp = data[(data['country']==col)&(data['test']==1)]\n",
    "    result = stats.ttest_ind(cont.groupby('date').user_id.nunique(),\n",
    "                            exp.groupby('date').user_id.nunique(),equal_var=False)\n",
    "    diff = exp.groupby('date').user_id.nunique().mean() - cont.groupby('date').user_id.nunique().mean()\n",
    "    print('{0:10s} {1:15f} {2:10f}'.format(col, diff, result.pvalue/2))"
   ]
  },
  {
   "cell_type": "markdown",
   "metadata": {},
   "source": [
    "<font size=3>c. the amount of daily money spent"
   ]
  },
  {
   "cell_type": "code",
   "execution_count": 208,
   "metadata": {},
   "outputs": [
    {
     "data": {
      "image/png": "[encoded data removed]",
      "text/plain": [
       "<Figure size 576x360 with 1 Axes>"
      ]
     },
     "metadata": {
      "needs_background": "light"
     },
     "output_type": "display_data"
    }
   ],
   "source": [
    "plt.figure(figsize=(8,5))\n",
    "data[data['test']==0].groupby('date').money_spent.sum().hist(bins=50)\n",
    "data[data['test']==1].groupby('date').money_spent.sum().hist(bins=50)\n",
    "plt.title('the amount of daily money spent')\n",
    "plt.show()"
   ]
  },
  {
   "cell_type": "code",
   "execution_count": 199,
   "metadata": {},
   "outputs": [
    {
     "data": {
      "text/plain": [
       "0.13519402252277665"
      ]
     },
     "execution_count": 199,
     "metadata": {},
     "output_type": "execute_result"
    }
   ],
   "source": [
    "## check the amount of daily money spent metric\n",
    "stat, pvalue = stats.ttest_ind(data[data['test']==0].groupby('date').money_spent.sum(),\n",
    "                               data[data['test']==1].groupby('date').money_spent.sum(),equal_var=False)\n",
    "pvalue/2"
   ]
  },
  {
   "cell_type": "code",
   "execution_count": 204,
   "metadata": {},
   "outputs": [
    {
     "name": "stdout",
     "output_type": "stream",
     "text": [
      "Country         Difference    P-Value\n",
      "----------------------------------------\n",
      "FR            90993.000000   0.031843\n",
      "CA            11536.000000   0.351704\n",
      "UK            83521.000000   0.048490\n",
      "MX            57617.000000   0.009670\n",
      "DE           -51598.000000   0.081459\n",
      "US            32380.000000   0.248874\n",
      "IT            71172.000000   0.025730\n",
      "ES            56334.000000   0.037522\n",
      "CH           -14348.000000   0.006941\n"
     ]
    }
   ],
   "source": [
    "# check the amount of daily money spent in different segments\n",
    "print('{0:10s} {1:>15s} {2:>10s}'.format('Country','Difference', 'P-Value'))\n",
    "print('-' * 40)\n",
    "for col in data.country.unique():\n",
    "    cont = data[(data['country']==col)&(data['test']==0)]\n",
    "    exp = data[(data['country']==col)&(data['test']==1)]\n",
    "    result = stats.ttest_ind(cont.groupby('date').money_spent.sum(),\n",
    "                            exp.groupby('date').money_spent.sum(),equal_var=False)\n",
    "    diff = exp.money_spent.sum() - cont.money_spent.sum()\n",
    "    print('{0:10s} {1:15f} {2:10f}'.format(col, diff, result.pvalue/2))"
   ]
  },
  {
   "cell_type": "markdown",
   "metadata": {},
   "source": [
    "### The above results shows:\n",
    "\n",
    "#### Although the new referral program increase the three metrics: daily transactions, daily users, daily money spent, but none of them are significant. Let's break down into different countries:\n",
    "\n",
    "- For daily transactions:\n",
    "  1. - country 'DE' and 'CH' has a negative significance, which means the number of daily transactions drops significantly in the two countries.\n",
    "  2. the new referral program performs pretty well in country 'MX', and the daily transactions increased significantlly in country 'MX'.\n",
    "  3. the program doesn't seem have any significant effect on other countries\n",
    "\n",
    "- For daily users:\n",
    "  1. daily users are significantly droped in countries 'CH' and 'DE'\n",
    "  2. countries 'MX','IT','FR','ES' increased the daily users significantly\n",
    "\n",
    "- For daily money spent:\n",
    "  1. the program decrease the daily money spent in country 'CH' significantly\n",
    "  2. the daily money spent significantly increased in countries 'FR','UK','MX','IT' and 'ES'."
   ]
  },
  {
   "cell_type": "markdown",
   "metadata": {},
   "source": [
    "---"
   ]
  },
  {
   "cell_type": "markdown",
   "metadata": {},
   "source": [
    "<font size=4>Q2: Based on the data, what would you suggest to do as a next step?"
   ]
  },
  {
   "cell_type": "markdown",
   "metadata": {},
   "source": [
    "From the above results:\n",
    "\n",
    "- First, I'll suggest to re-check the experiment setup, since the test and control group are not under the same period of time, we may need to re-design the experiment.\n",
    "\n",
    "- From the above results we can see that for different countries, the users shows different behaviors. So I'll suggest to dive deeper for the countries which perform bad, to find out the reason; and for the countries where program have no effect, I'll suggest to do some user experience research or survey to figure out the reason; for the countries which perform well, do additional experiment after re-designing the experiment to double check the results."
   ]
  },
  {
   "cell_type": "markdown",
   "metadata": {},
   "source": [
    "---"
   ]
  },
  {
   "cell_type": "markdown",
   "metadata": {},
   "source": [
    "<font size=4>Q3: What kinds of risks this approach presents? Can you think of a better way to test the program and measure its impact?"
   ]
  },
  {
   "cell_type": "markdown",
   "metadata": {},
   "source": [
    "Here are some issues in the ab test:\n",
    "\n",
    "- The test and control group are not comparable in the referral program ab test experiment. It takes the transactions before Oct. 31 as control group while the transactions after Oct. 31 as test group, and this causes an issue that the referral program isn't the only difference between two groups, since there may be other factors that can influence the difference in metrics between two groups, such as holiday season, and other factors.\n",
    "\n",
    "- Also, the ab test split the transactions into control and test groups, which means a same user can be assigned to test and control groups at the same time, so that it's hard to make the test and control groups independent for each other. \n",
    "\n",
    "So, in order to avoid this issue, we may need to re-design the ab test:\n",
    "\n",
    "- make the control and test groups are under the same period of time\n",
    "\n",
    "- randomly split the users into two groups, and show one of the groups the new referral program\n",
    "\n",
    "- run the experiment long enough to cover user behaviors in different time periods, then analyze the results."
   ]
  },
  {
   "cell_type": "code",
   "execution_count": null,
   "metadata": {},
   "outputs": [],
   "source": []
  }
 ],
 "metadata": {
  "kernelspec": {
   "display_name": "Python 3",
   "language": "python",
   "name": "python3"
  },
  "language_info": {
   "codemirror_mode": {
    "name": "ipython",
    "version": 3
   },
   "file_extension": ".py",
   "mimetype": "text/x-python",
   "name": "python",
   "nbconvert_exporter": "python",
   "pygments_lexer": "ipython3",
   "version": "3.7.3"
  }
 },
 "nbformat": 4,
 "nbformat_minor": 2
}
